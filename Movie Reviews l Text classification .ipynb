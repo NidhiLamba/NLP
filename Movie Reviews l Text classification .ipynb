{
 "cells": [
  {
   "cell_type": "code",
   "execution_count": 1,
   "id": "7b7b1607",
   "metadata": {},
   "outputs": [
    {
     "name": "stderr",
     "output_type": "stream",
     "text": [
      "/Users/uchreetinsan/opt/anaconda3/envs/nlp_course/lib/python3.7/site-packages/sklearn/utils/validation.py:37: DeprecationWarning: distutils Version classes are deprecated. Use packaging.version instead.\n",
      "  LARGE_SPARSE_SUPPORTED = LooseVersion(scipy_version) >= '0.14.0'\n"
     ]
    }
   ],
   "source": [
    "import pandas as pd\n",
    "import numpy as np\n",
    "from sklearn.feature_extraction.text import TfidfVectorizer\n",
    "from sklearn.svm import LinearSVC\n",
    "from sklearn.model_selection import train_test_split\n",
    "from sklearn.linear_model import LogisticRegression\n",
    "from sklearn.pipeline import Pipeline\n",
    "from sklearn import metrics"
   ]
  },
  {
   "cell_type": "code",
   "execution_count": 22,
   "id": "0cc7fef9",
   "metadata": {},
   "outputs": [
    {
     "data": {
      "text/html": [
       "<div>\n",
       "<style scoped>\n",
       "    .dataframe tbody tr th:only-of-type {\n",
       "        vertical-align: middle;\n",
       "    }\n",
       "\n",
       "    .dataframe tbody tr th {\n",
       "        vertical-align: top;\n",
       "    }\n",
       "\n",
       "    .dataframe thead th {\n",
       "        text-align: right;\n",
       "    }\n",
       "</style>\n",
       "<table border=\"1\" class=\"dataframe\">\n",
       "  <thead>\n",
       "    <tr style=\"text-align: right;\">\n",
       "      <th></th>\n",
       "      <th>label</th>\n",
       "      <th>review</th>\n",
       "    </tr>\n",
       "  </thead>\n",
       "  <tbody>\n",
       "    <tr>\n",
       "      <th>0</th>\n",
       "      <td>neg</td>\n",
       "      <td>how do films like mouse hunt get into theatres...</td>\n",
       "    </tr>\n",
       "    <tr>\n",
       "      <th>1</th>\n",
       "      <td>neg</td>\n",
       "      <td>some talented actresses are blessed with a dem...</td>\n",
       "    </tr>\n",
       "  </tbody>\n",
       "</table>\n",
       "</div>"
      ],
      "text/plain": [
       "  label                                             review\n",
       "0   neg  how do films like mouse hunt get into theatres...\n",
       "1   neg  some talented actresses are blessed with a dem..."
      ]
     },
     "execution_count": 22,
     "metadata": {},
     "output_type": "execute_result"
    }
   ],
   "source": [
    "df=pd.read_csv('UPDATED_NLP_COURSE/TextFiles/moviereviews.tsv',sep='\\t')\n",
    "df.head(2)"
   ]
  },
  {
   "cell_type": "code",
   "execution_count": 23,
   "id": "a4d45315",
   "metadata": {},
   "outputs": [
    {
     "data": {
      "text/plain": [
       "(2000, 2)"
      ]
     },
     "execution_count": 23,
     "metadata": {},
     "output_type": "execute_result"
    }
   ],
   "source": [
    "df.shape"
   ]
  },
  {
   "cell_type": "code",
   "execution_count": 24,
   "id": "fe8a1b04",
   "metadata": {},
   "outputs": [
    {
     "data": {
      "text/plain": [
       "label      0\n",
       "review    35\n",
       "dtype: int64"
      ]
     },
     "execution_count": 24,
     "metadata": {},
     "output_type": "execute_result"
    }
   ],
   "source": [
    "df.isnull().sum()"
   ]
  },
  {
   "cell_type": "code",
   "execution_count": 25,
   "id": "3887d60e",
   "metadata": {},
   "outputs": [],
   "source": [
    "df.dropna(inplace=True)"
   ]
  },
  {
   "cell_type": "code",
   "execution_count": 26,
   "id": "b53a1e1c",
   "metadata": {},
   "outputs": [
    {
     "data": {
      "text/plain": [
       "label     0\n",
       "review    0\n",
       "dtype: int64"
      ]
     },
     "execution_count": 26,
     "metadata": {},
     "output_type": "execute_result"
    }
   ],
   "source": [
    "df.isnull().sum()"
   ]
  },
  {
   "cell_type": "code",
   "execution_count": 28,
   "id": "e6ea57ac",
   "metadata": {},
   "outputs": [],
   "source": [
    "# dropping whitespaces and empty-string data\n",
    "space=[]\n",
    "\n",
    "for i,j,k in df.itertuples():\n",
    "    if k.isspace()==True:\n",
    "        space.append(i)"
   ]
  },
  {
   "cell_type": "code",
   "execution_count": 31,
   "id": "cf543082",
   "metadata": {},
   "outputs": [
    {
     "data": {
      "text/plain": [
       "27"
      ]
     },
     "execution_count": 31,
     "metadata": {},
     "output_type": "execute_result"
    }
   ],
   "source": [
    "len(space)"
   ]
  },
  {
   "cell_type": "code",
   "execution_count": 33,
   "id": "984fa2fc",
   "metadata": {},
   "outputs": [],
   "source": [
    "df.drop(space,inplace=True)"
   ]
  },
  {
   "cell_type": "code",
   "execution_count": 34,
   "id": "7978ecaa",
   "metadata": {},
   "outputs": [
    {
     "data": {
      "text/plain": [
       "(1938, 2)"
      ]
     },
     "execution_count": 34,
     "metadata": {},
     "output_type": "execute_result"
    }
   ],
   "source": [
    "df.shape"
   ]
  },
  {
   "cell_type": "code",
   "execution_count": null,
   "id": "08973026",
   "metadata": {},
   "outputs": [],
   "source": []
  },
  {
   "cell_type": "code",
   "execution_count": null,
   "id": "770df587",
   "metadata": {},
   "outputs": [],
   "source": []
  },
  {
   "cell_type": "code",
   "execution_count": 21,
   "id": "9b552db0",
   "metadata": {},
   "outputs": [
    {
     "data": {
      "text/html": [
       "<div>\n",
       "<style scoped>\n",
       "    .dataframe tbody tr th:only-of-type {\n",
       "        vertical-align: middle;\n",
       "    }\n",
       "\n",
       "    .dataframe tbody tr th {\n",
       "        vertical-align: top;\n",
       "    }\n",
       "\n",
       "    .dataframe thead th {\n",
       "        text-align: right;\n",
       "    }\n",
       "</style>\n",
       "<table border=\"1\" class=\"dataframe\">\n",
       "  <thead>\n",
       "    <tr style=\"text-align: right;\">\n",
       "      <th></th>\n",
       "      <th>firstname</th>\n",
       "      <th>age</th>\n",
       "    </tr>\n",
       "  </thead>\n",
       "  <tbody>\n",
       "    <tr>\n",
       "      <th>0</th>\n",
       "      <td>Sally</td>\n",
       "      <td>50</td>\n",
       "    </tr>\n",
       "    <tr>\n",
       "      <th>1</th>\n",
       "      <td>Mary</td>\n",
       "      <td>40</td>\n",
       "    </tr>\n",
       "    <tr>\n",
       "      <th>2</th>\n",
       "      <td>John</td>\n",
       "      <td>30</td>\n",
       "    </tr>\n",
       "  </tbody>\n",
       "</table>\n",
       "</div>"
      ],
      "text/plain": [
       "  firstname  age\n",
       "0     Sally   50\n",
       "1      Mary   40\n",
       "2      John   30"
      ]
     },
     "execution_count": 21,
     "metadata": {},
     "output_type": "execute_result"
    }
   ],
   "source": [
    "import pandas as pd\n",
    "\n",
    "data = {\n",
    "  \"firstname\": [\"Sally\", \"Mary\", \"John\"],\n",
    "  \"age\": [50, 40, 30]\n",
    "}\n",
    "\n",
    "df1 = pd.DataFrame(data)\n",
    "df1\n"
   ]
  },
  {
   "cell_type": "code",
   "execution_count": 27,
   "id": "0e42a77b",
   "metadata": {},
   "outputs": [
    {
     "name": "stdout",
     "output_type": "stream",
     "text": [
      "Pandas(Index=0, firstname='Sally', age=50)\n",
      "Pandas(Index=1, firstname='Mary', age=40)\n",
      "Pandas(Index=2, firstname='John', age=30)\n"
     ]
    }
   ],
   "source": [
    "for i in df1.itertuples():\n",
    "    print(i)"
   ]
  },
  {
   "cell_type": "code",
   "execution_count": 35,
   "id": "ccf13406",
   "metadata": {},
   "outputs": [],
   "source": [
    "X=df['review']\n",
    "Y=df['label']"
   ]
  },
  {
   "cell_type": "code",
   "execution_count": 36,
   "id": "4d34be42",
   "metadata": {},
   "outputs": [],
   "source": [
    "xtrain,xtest,ytrain,ytest=train_test_split(X,Y,test_size=.3,random_state=40)"
   ]
  },
  {
   "cell_type": "code",
   "execution_count": 37,
   "id": "37eef169",
   "metadata": {},
   "outputs": [],
   "source": [
    "pipeline=Pipeline([('vec',TfidfVectorizer()),('model',LinearSVC())])"
   ]
  },
  {
   "cell_type": "code",
   "execution_count": 49,
   "id": "1a231410",
   "metadata": {},
   "outputs": [
    {
     "name": "stdout",
     "output_type": "stream",
     "text": [
      "according to hollywood movies made in last few decades , life in small town is one of the worst things that could happen to a human being . \r\n",
      "even worse fate awaits those who were unfortunate to grow up in those dark , god-forsaken places and later forced to live forever traumatised by the experience . \r\n",
      "on the other hand , it seems that something more than atlantic ocean divides europe from america , because one of the most popular and beloved european films takes exactly the opposite view . \r\n",
      "this film is amarcord , 1974 comedy by famous italian director federico fellini , which later gave inspiration to numerous imitations and homages , and even led few american screen artists to adopt its heretical views about benefits of small town life . \r\n",
      "the film is based on the screenplay by fellini and tonino guerra and it lacks the plot in usual sense . \r\n",
      "instead we follow one year in 1930s italian summer resort town of rimini through the series of short vignettes that depict various local events and customs , as well as series of local , often very colourful characters . \r\n",
      "although many of those characters occasionally take the role of narrator , movie concentrates on its nominal protagonist , 14-year old boy titta ( played by bruno zanin ) and chronicles his sexual frustrations , obsession with local beauty queen named gradisca ( played by magali noel ) , problems in his lovingly dysfunctional family , as well as troubles his father ( played by armando brancia ) have with mussolini's fascist regime . \r\n",
      "amarcord was often noted as the ultimate nostalgia film , and it probably explains why it is very popular , even among those people who actually don't like federico fellini's work very much . \r\n",
      "every member of its potential audience would find part of himself or herself in this film , because fellini in this film clearly illustrates natural human desire to paint past in the best way possible . \r\n",
      "distortion between actual past and its subjective interpretation could be found even in the title of the film - word \" amarcord \" is nothing more than badly pronounced phrase \" i remember \" in local italian dialect . \r\n",
      "in the same way the word is distorted , so is the past in memories of those who remember it . \r\n",
      "after the premiere , fellini rejected any claims about autobiographical character of this film , but it doesn't matter whether rimini of amarcord actually resembles rimini of fellini's childhood or not ; any place and any time could resemble characters and situations of this film . \r\n",
      "fellini's views on nostalgia are clearly illustrated with a way he mixes reality and fantasy in this film . \r\n",
      "even the most naturalistic scenes are laced with dark humour and grotesque images . \r\n",
      "characters look like caricatures , actors playing them often deliberately overact , and women , especially those who fuel titta's sexual fantasies , often have certain body parts with gargantuan proportions . \r\n",
      "every now and then , scenes that depict 1930s reality gradually slide into fantasies of movie's characters and rimini becomes almost indistinguishable from the magical place in characters' visions . \r\n",
      "because of that , almost everything in this film looks different , and in most cases better , than it would have looked in the real life . \r\n",
      "even the fascism gets fellinian make-over - fellini views mussolini's totalitarian regime as nothing more than visual spectacle ( explaining why similar regimes enjoyed such popular support throughout history ) and opportunity for comedy . \r\n",
      "when fascists finally show their true colours and begin torturing their opponents , even this becomes opportunity for scenes of macabre humour . \r\n",
      "unlike many of his italian colleagues in 1970s , who had used 1930s period setting to explicitly condemn fascism and serve fashionable political agenda , fellini doesn't care that much about politics . \r\n",
      "lack of self-righteous moral perspective is compensated with fellini's humanistic approach to his characters . \r\n",
      "each of them , regardless of age , gender , social class or physical appearance , is given opportunity to express his or her views , dreams and fears . \r\n",
      "fellini treats all those characters with warmth and affection , even when he paints them as grotesque caricatures of real people . \r\n",
      "because of this warmth and democratic spirit , amarcord could be viewed as one of the most humane films of 20th century , and it keeps its general feel good atmosphere despite depicting having many uncomfortable , melancholic and even tragic moments . \r\n",
      "fellini couldn't produce such effects without using his own directorial talent that gave a very personal touch to this movie . \r\n",
      "vignettes aren't memorable because of the characters only ; fellini uses camera , painting film in bright colours , especially in the scenes that depict character's fantasies . \r\n",
      "fellini also knows how to use locations , whether such location happens to be luxurious hotel , bright-coloured beach or rural countryside . \r\n",
      "even the down-to-earth streets of rimini , where everyone knows everyone , gets magical dimension during the snowfall . \r\n",
      "on the other hand , lack of credible special effects somewhat diminished the same effect during the ocean liner scene . \r\n",
      "this atmosphere is also provided by incredible talent of composer and fellini's long-time associate nino rota . \r\n",
      "his amarcord theme is probably one of the most recognisable , most popular and most relaxing and uplifting pieces of film music ever produced . \r\n",
      "that music alone should be the reason to view amarcord as one of the indisputable classics of seventh art . \r\n",
      "\n"
     ]
    }
   ],
   "source": [
    "print(xtrain[3])"
   ]
  },
  {
   "cell_type": "code",
   "execution_count": 51,
   "id": "37509b65",
   "metadata": {},
   "outputs": [
    {
     "data": {
      "text/plain": [
       "(pandas.core.series.Series, str)"
      ]
     },
     "execution_count": 51,
     "metadata": {},
     "output_type": "execute_result"
    }
   ],
   "source": [
    "type(xtrain), type(xtrain[3])"
   ]
  },
  {
   "cell_type": "code",
   "execution_count": 52,
   "id": "b12a69da",
   "metadata": {},
   "outputs": [
    {
     "name": "stderr",
     "output_type": "stream",
     "text": [
      "/Users/uchreetinsan/opt/anaconda3/envs/nlp_course/lib/python3.7/site-packages/sklearn/utils/validation.py:209: DeprecationWarning: distutils Version classes are deprecated. Use packaging.version instead.\n",
      "  if LooseVersion(joblib_version) < '0.12':\n"
     ]
    },
    {
     "data": {
      "text/plain": [
       "Pipeline(memory=None,\n",
       "     steps=[('vec', TfidfVectorizer(analyzer='word', binary=False, decode_error='strict',\n",
       "        dtype=<class 'numpy.float64'>, encoding='utf-8', input='content',\n",
       "        lowercase=True, max_df=1.0, max_features=None, min_df=1,\n",
       "        ngram_range=(1, 1), norm='l2', preprocessor=None, smooth_idf=True,\n",
       " ...ax_iter=1000,\n",
       "     multi_class='ovr', penalty='l2', random_state=None, tol=0.0001,\n",
       "     verbose=0))])"
      ]
     },
     "execution_count": 52,
     "metadata": {},
     "output_type": "execute_result"
    }
   ],
   "source": [
    "pipeline.fit(xtrain,ytrain)"
   ]
  },
  {
   "cell_type": "code",
   "execution_count": 53,
   "id": "8faaffb3",
   "metadata": {},
   "outputs": [],
   "source": [
    "ypred=pipeline.predict(xtest)"
   ]
  },
  {
   "cell_type": "code",
   "execution_count": 54,
   "id": "9022cf64",
   "metadata": {},
   "outputs": [
    {
     "name": "stdout",
     "output_type": "stream",
     "text": [
      "              precision    recall  f1-score   support\n",
      "\n",
      "         neg       0.80      0.84      0.82       266\n",
      "         pos       0.86      0.82      0.84       316\n",
      "\n",
      "   micro avg       0.83      0.83      0.83       582\n",
      "   macro avg       0.83      0.83      0.83       582\n",
      "weighted avg       0.83      0.83      0.83       582\n",
      "\n"
     ]
    }
   ],
   "source": [
    "print(metrics.classification_report(ytest,ypred))"
   ]
  },
  {
   "cell_type": "code",
   "execution_count": null,
   "id": "89f25849",
   "metadata": {},
   "outputs": [],
   "source": []
  }
 ],
 "metadata": {
  "kernelspec": {
   "display_name": "Python 3 (ipykernel)",
   "language": "python",
   "name": "python3"
  },
  "language_info": {
   "codemirror_mode": {
    "name": "ipython",
    "version": 3
   },
   "file_extension": ".py",
   "mimetype": "text/x-python",
   "name": "python",
   "nbconvert_exporter": "python",
   "pygments_lexer": "ipython3",
   "version": "3.7.16"
  }
 },
 "nbformat": 4,
 "nbformat_minor": 5
}
